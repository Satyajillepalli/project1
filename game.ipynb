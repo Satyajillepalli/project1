{
 "cells": [
  {
   "cell_type": "code",
   "execution_count": 2,
   "metadata": {},
   "outputs": [
    {
     "name": "stdout",
     "output_type": "stream",
     "text": [
      "m= 0 c= 0 |----B| m= 3 c= 3\n"
     ]
    }
   ],
   "source": [
    "#  missionaries and cannibals game using python code.............\n",
    "\n",
    "boat_side = \"right\"\n",
    "missionaries_on_right = 3\n",
    "missionaries_on_left = 0\n",
    "cannibals_on_right = 3\n",
    "cannibals_on_left = 0\n",
    "\n",
    "print('m=',missionaries_on_left,'c=',cannibals_on_left,'|----B|','m=',missionaries_on_right,'c=',cannibals_on_right)\n",
    "\n",
    "while True:\n",
    "    \n",
    "    missinaries = int(input(\"enter no of missions on:  \"))\n",
    "    if missinaries == 10:\n",
    "        print(\"game over!!!\")\n",
    "        break\n",
    "    cannibals = int(input(\"enter no cannibals on:  \"))\n",
    "    if (missinaries+cannibals)!=1 and (missinaries+cannibals)!=2:\n",
    "        print(\"invalid move\")\n",
    "        continue\n",
    "    \n",
    "    if boat_side == \"right\":\n",
    "        if missionaries_on_right<missinaries or cannibals_on_right<cannibals:\n",
    "            print(\"invalid move\")\n",
    "        missionaries_on_right = missionaries_on_right - missinaries\n",
    "        cannibals_on_right = cannibals_on_right - cannibals\n",
    "        \n",
    "        missionaries_on_left+= missinaries\n",
    "        cannibals_on_left+= cannibals\n",
    "        \n",
    "        print('m=',missionaries_on_left,'c=',cannibals_on_left,'|----B|','m=',missionaries_on_right,'c=',cannibals_on_right)\n",
    "        \n",
    "        boat_side== \"left\"\n",
    "        \n",
    "    else:\n",
    "        if missionaries_on_left<missinaries or cannibals_on_left < cannibals:\n",
    "            print(\"invalid move\")\n",
    "            \n",
    "        missionaries_on_left = missionaries_on_left - missinaries\n",
    "        cannibals_on_left = cannibals_on_left - cannibals\n",
    "        \n",
    "        missionaries_on_right += missinaries\n",
    "        cannibals_on_right += cannibals\n",
    "    if (missionaries_on_right< cannibals_on_right and missionaries_on_right<cannibals_on_right):\n",
    "        print(\"loose\")\n",
    "        break\n",
    "    \n",
    "    if (missionaries_on_left == 3 and cannibals_on_left == 3):\n",
    "        print(\"winn\")\n",
    "        break\n"
   ]
  }
 ],
 "metadata": {
  "kernelspec": {
   "display_name": "base",
   "language": "python",
   "name": "python3"
  },
  "language_info": {
   "codemirror_mode": {
    "name": "ipython",
    "version": 3
   },
   "file_extension": ".py",
   "mimetype": "text/x-python",
   "name": "python",
   "nbconvert_exporter": "python",
   "pygments_lexer": "ipython3",
   "version": "3.10.9"
  }
 },
 "nbformat": 4,
 "nbformat_minor": 2
}
